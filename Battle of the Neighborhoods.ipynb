{
 "cells": [
  {
   "cell_type": "markdown",
   "metadata": {},
   "source": [
    "### The Problem"
   ]
  },
  {
   "cell_type": "markdown",
   "metadata": {},
   "source": [
    "Whether hopeful business owners are looking to open up their very first restaurant or the next one in their franchise, one of the most important decisions is the location of the restuarant. \n",
    "\n",
    "<em> Location can make or break a restaurant's business. </em>\n",
    "    \n",
    "My project will be focused on providing geographical insight to restaurant owners as they select the location of their next or first establishment."
   ]
  },
  {
   "cell_type": "markdown",
   "metadata": {},
   "source": [
    "### Background"
   ]
  },
  {
   "cell_type": "markdown",
   "metadata": {},
   "source": [
    "<b> There are two main areas that restaurant owners should avoid. </b>\n",
    "\n",
    "1. Saturated Areas, where there is demand for food, but also sufficient supply of it. \n",
    "<br> Meaning there are already many other popular restaurants in the area. \n",
    "Starting a new restaurant in this location would be tough.\n",
    "<p>\n",
    "2. Low-Demand Areas, where there is no demand for food. \n",
    "<br> Likely residential areas, without much foot traffic and with no other potential customers besides the few that live in the area. \n",
    "\n",
    "<b> The areas that we would like to recommend for a new restaurant location, would be those that appear to have sufficient foot traffic,yet lack a strong restaurant presence. </b>"
   ]
  },
  {
   "cell_type": "markdown",
   "metadata": {},
   "source": [
    "### Data"
   ]
  },
  {
   "cell_type": "markdown",
   "metadata": {},
   "source": [
    "<b> For this project, I will be using the city of Toronto, which we are already quite familiar with. </b>\n",
    "\n",
    "Using FourSquare API, I will obtain venue data for each neighborhood in Toronto, and categorize the first 100 venues of each neighborhood in Toronto like we did in class.\n",
    "\n",
    "<b> The critera for the three different areas are as follows. </b>\n",
    "<p>\n",
    "1. Saturated Areas: Restaurants are within the top three most common venues by category in the area\n",
    "<p>\n",
    "2. Low Demand Areas: Neither restaurants nor commercial venues are within the top three most common venues by category in the area.\n",
    "<p>\n",
    "3. Ideal Areas: Commercial venues are within the top three most common venues by category in the area but not restaurants. "
   ]
  },
  {
   "cell_type": "markdown",
   "metadata": {},
   "source": [
    "### Future & Additional Considerations"
   ]
  },
  {
   "cell_type": "markdown",
   "metadata": {},
   "source": [
    "Instead of evaluating areas by neighborhood, it may be more insightful to organize the city of Toronto into square cells of identical size. The venues in each square cell with be evaluated with the same criteria as listed above. \n",
    "\n",
    "To improve the recommendation, we can also compile the average ratings of restaurants within an area. Areas with lower than city average restaurant ratings can be seen as opportunties for a better restaurant to gain market share in that area. This way, high density restaurant areas may still be feasible for new restaurants as long as the new restaurant can exceed patron expectations. In addition, we can also compile average price tiers of restaurants within an area to evaluate the price expectations of an area for further insight. "
   ]
  },
  {
   "cell_type": "code",
   "execution_count": null,
   "metadata": {},
   "outputs": [],
   "source": []
  }
 ],
 "metadata": {
  "kernelspec": {
   "display_name": "Python 3",
   "language": "python",
   "name": "python3"
  },
  "language_info": {
   "codemirror_mode": {
    "name": "ipython",
    "version": 3
   },
   "file_extension": ".py",
   "mimetype": "text/x-python",
   "name": "python",
   "nbconvert_exporter": "python",
   "pygments_lexer": "ipython3",
   "version": "3.7.6"
  }
 },
 "nbformat": 4,
 "nbformat_minor": 4
}
